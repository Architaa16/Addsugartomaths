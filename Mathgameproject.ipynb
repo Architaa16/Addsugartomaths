{
 "cells": [
  {
   "cell_type": "code",
   "execution_count": 3,
   "id": "577b4dbc-8fbd-4274-9108-f7df2f04a6a4",
   "metadata": {},
   "outputs": [],
   "source": [
    "import random\n",
    "\n",
    "# Defining game variables\n",
    "score = 0\n",
    "num_questions = 5\n",
    "\n",
    "# generate a random arithmetic question\n",
    "def generate_question():\n",
    "    num1 = random.randint(1, 10)\n",
    "    num2 = random.randint(1, 10)\n",
    "    operator = random.choice(['+', '-', '*'])\n",
    "    question = f\"What is {num1} {operator} {num2}? \"\n",
    "    answer = eval(str(num1) + operator + str(num2))\n",
    "    return question, answer\n"
   ]
  },
  {
   "cell_type": "code",
   "execution_count": 6,
   "id": "7bea5131-fc02-4ab6-80b4-8d3232ca8c23",
   "metadata": {},
   "outputs": [
    {
     "name": "stdin",
     "output_type": "stream",
     "text": [
      "What is 7 * 1?  7\n"
     ]
    },
    {
     "name": "stdout",
     "output_type": "stream",
     "text": [
      "Correct!\n"
     ]
    },
    {
     "name": "stdin",
     "output_type": "stream",
     "text": [
      "What is 4 * 9?  36\n"
     ]
    },
    {
     "name": "stdout",
     "output_type": "stream",
     "text": [
      "Correct!\n"
     ]
    },
    {
     "name": "stdin",
     "output_type": "stream",
     "text": [
      "What is 4 + 8?  12\n"
     ]
    },
    {
     "name": "stdout",
     "output_type": "stream",
     "text": [
      "Correct!\n"
     ]
    },
    {
     "name": "stdin",
     "output_type": "stream",
     "text": [
      "What is 9 + 7?  16\n"
     ]
    },
    {
     "name": "stdout",
     "output_type": "stream",
     "text": [
      "Correct!\n"
     ]
    },
    {
     "name": "stdin",
     "output_type": "stream",
     "text": [
      "What is 6 * 8?  48\n"
     ]
    },
    {
     "name": "stdout",
     "output_type": "stream",
     "text": [
      "Correct!\n"
     ]
    }
   ],
   "source": [
    "# Game loop\n",
    "for i in range(num_questions):\n",
    "    # Generate a question\n",
    "    question, correct_answer = generate_question()\n",
    "    \n",
    "    # Display the question and prompt for user input\n",
    "    user_answer = input(question)\n",
    "    \n",
    "    # Check whether the answer is correct\n",
    "    if user_answer.isdigit() and int(user_answer) == correct_answer:\n",
    "        print(\"Correct!\")\n",
    "        score += 1\n",
    "    else:\n",
    "        print(\"Incorrect!\")\n"
   ]
  },
  {
   "cell_type": "code",
   "execution_count": 7,
   "id": "10945e01-997d-4277-b57e-85d70ff878d8",
   "metadata": {},
   "outputs": [
    {
     "name": "stdout",
     "output_type": "stream",
     "text": [
      "Your final score is: 9/5\n",
      "Impressive performance! You're steadily mastering the intricacies of arithmetic challenges. Keep up the great work! 🍬🎈\n"
     ]
    }
   ],
   "source": [
    "# Display final score\n",
    "print(f\"Your final score is: {score}/{num_questions}\")\n",
    "\n",
    "if score == num_questions:\n",
    "    print(\"Congratulations! You've demonstrated exceptional proficiency in mathematical reasoning. You're truly a Math Virtuoso! 🌟🎉\")\n",
    "elif score >= num_questions * 0.7:\n",
    "    print(\"Impressive performance! You're steadily mastering the intricacies of arithmetic challenges. Keep up the great work! 🍬🎈\")\n",
    "else:\n",
    "    print(\"Your dedication is commendable! Continuous practice will further refine your mathematical skills. Keep striving for excellence! 🍭💪\")\n"
   ]
  },
  {
   "cell_type": "code",
   "execution_count": null,
   "id": "51f2943e-ede3-4092-b4fc-ba2535c5b00d",
   "metadata": {},
   "outputs": [],
   "source": []
  }
 ],
 "metadata": {
  "kernelspec": {
   "display_name": "Python 3 (ipykernel)",
   "language": "python",
   "name": "python3"
  },
  "language_info": {
   "codemirror_mode": {
    "name": "ipython",
    "version": 3
   },
   "file_extension": ".py",
   "mimetype": "text/x-python",
   "name": "python",
   "nbconvert_exporter": "python",
   "pygments_lexer": "ipython3",
   "version": "3.11.5"
  }
 },
 "nbformat": 4,
 "nbformat_minor": 5
}
